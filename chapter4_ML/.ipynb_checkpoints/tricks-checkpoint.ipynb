{
 "cells": [
  {
   "cell_type": "markdown",
   "metadata": {},
   "source": [
    "## python tricks or idioms \n",
    "always consider the programming as the creative job, and its syntax can be designed in more than one format,sometimes its just like this way, you know the basics, then play around with some liberty, but always need to take the self discipline with me! "
   ]
  },
  {
   "cell_type": "markdown",
   "metadata": {},
   "source": [
    "1. understand the data type is quite important, list, tuple, dict, set <br/> \n",
    "for the list, dict, set, for its iterable, for we have list/set/dict comprehension, the list one is most commonly used, and in a preferred way, can use the list comprehension to write the function than the built in map()/filter()\n",
    "\n",
    "- tuple is useful to unpack the value, which works the same in the javascript, also can reeturn multi-values from the functions "
   ]
  },
  {
   "cell_type": "code",
   "execution_count": 4,
   "metadata": {},
   "outputs": [
    {
     "data": {
      "text/plain": [
       "[2, 6, 10, 14, 18]"
      ]
     },
     "execution_count": 4,
     "metadata": {},
     "output_type": "execute_result"
    }
   ],
   "source": [
    "num = [x * 2 for x in list(range(10)) if x % 2 == 1]  \n",
    "num  "
   ]
  },
  {
   "cell_type": "code",
   "execution_count": 2,
   "metadata": {},
   "outputs": [
    {
     "name": "stdout",
     "output_type": "stream",
     "text": [
      "[1, 9, 25, 49, 81]\n",
      "--------------------------------------------------\n",
      "1\n",
      "9\n",
      "25\n",
      "49\n",
      "81\n"
     ]
    }
   ],
   "source": [
    "#generator compared to list comprehension, is for the memoery efficiency, just change the [] to the () \n",
    "list_=[x**2 for x in list(range(10)) if x%2!=0] \n",
    "print(list_)\n",
    "\n",
    "print('-'*50) \n",
    "\n",
    "gen=(x**2 for x in list(range(10)) if x%2!=0) \n",
    "for i in gen:\n",
    "    print(i)    "
   ]
  },
  {
   "cell_type": "markdown",
   "metadata": {},
   "source": [
    "3. use enumerate for the for loop, instead to create a new index "
   ]
  },
  {
   "cell_type": "code",
   "execution_count": 5,
   "metadata": {},
   "outputs": [
    {
     "name": "stdout",
     "output_type": "stream",
     "text": [
      "0 is chloe\n",
      "1 is nathan\n",
      "2 is emma\n"
     ]
    }
   ],
   "source": [
    "list_=['chloe', 'nathan', 'emma'] \n",
    "for i, name in enumerate(list_):\n",
    "    print('{} is {}'.format(i, name))  "
   ]
  },
  {
   "cell_type": "markdown",
   "metadata": {},
   "source": [
    "4. zip is useful too to inter_combine 2+ lists "
   ]
  },
  {
   "cell_type": "code",
   "execution_count": 7,
   "metadata": {},
   "outputs": [
    {
     "name": "stdout",
     "output_type": "stream",
     "text": [
      "chloe lives in shanghai and age is 27\n",
      "nathan lives in lille and age is 28\n",
      "emma lives in new york and age is 26\n"
     ]
    }
   ],
   "source": [
    "name= ['chloe','nathan','emma']\n",
    "age=[27,28, 26]\n",
    "city=['shanghai', 'lille', 'new york'] \n",
    "for n, a, c in zip(name, age, city):\n",
    "    print('{} lives in {} and age is {}'.format(n,c,a))  "
   ]
  },
  {
   "cell_type": "markdown",
   "metadata": {},
   "source": [
    "5. use keyword in to do the iterable list "
   ]
  },
  {
   "cell_type": "code",
   "execution_count": 8,
   "metadata": {},
   "outputs": [
    {
     "name": "stdout",
     "output_type": "stream",
     "text": [
      "chloe\n",
      "nathan\n",
      "emma\n"
     ]
    }
   ],
   "source": [
    "for name in list_:\n",
    "    print(name)  "
   ]
  },
  {
   "cell_type": "markdown",
   "metadata": {},
   "source": [
    "6. for the condtions, if/else, write if and else as we did in the javascript, Use if and else as a short ternary operator  "
   ]
  },
  {
   "cell_type": "code",
   "execution_count": 9,
   "metadata": {},
   "outputs": [
    {
     "name": "stdout",
     "output_type": "stream",
     "text": [
      "0\n"
     ]
    }
   ],
   "source": [
    "foo = False \n",
    "value = 1 if foo else 0 \n",
    "print(value)  "
   ]
  },
  {
   "cell_type": "code",
   "execution_count": 23,
   "metadata": {},
   "outputs": [
    {
     "data": {
      "text/plain": [
       "array([ 10,  11,  12,  13,  14,  15,  16,  17, 512, 729])"
      ]
     },
     "execution_count": 23,
     "metadata": {},
     "output_type": "execute_result"
    }
   ],
   "source": [
    "#np.where, if/else conditions \n",
    "import numpy as np\n",
    "x=np.arange(10)\n",
    "np.where(x<8, x+10, x**3) "
   ]
  },
  {
   "cell_type": "markdown",
   "metadata": {},
   "source": [
    "7. use the try block and except, exceptions can be found in almost every popular third-party package, and the Python standard library makes liberal use of them, which echoes the good code writing style is EAFP(its easy to ask for forgiveness then permission), which assumes things will go well and catches exceptions if they don’t.Exceptions have tracebacks and messages for a reason: to aid in debugging when something goes wrong.  "
   ]
  },
  {
   "cell_type": "code",
   "execution_count": null,
   "metadata": {},
   "outputs": [],
   "source": [
    "try: \n",
    "    def fn():\n",
    "except: \n",
    "    fn\n",
    "finally "
   ]
  },
  {
   "cell_type": "markdown",
   "metadata": {},
   "source": [
    "8. Use _ as a placeholder for data in a tuple that should be ignored, which is just the temp variable, _ single leading/trailing, __dunder leading /trailing usage, for the single leading_, is like the secret handshake for the python developers, we know what it means. \n",
    "<i>same for the function</i> "
   ]
  },
  {
   "cell_type": "code",
   "execution_count": 12,
   "metadata": {},
   "outputs": [
    {
     "name": "stdout",
     "output_type": "stream",
     "text": [
      "the name is chloe\n",
      "the name is nathan\n",
      "the name is emma\n"
     ]
    }
   ],
   "source": [
    "for _, name in enumerate(list_):\n",
    "    print('the name is {}'.format(name)) "
   ]
  },
  {
   "cell_type": "markdown",
   "metadata": {},
   "source": [
    "9. Use *args and **kwargs to accept arbitrary arguments "
   ]
  },
  {
   "cell_type": "code",
   "execution_count": 20,
   "metadata": {},
   "outputs": [
    {
     "name": "stdout",
     "output_type": "stream",
     "text": [
      "9\n"
     ]
    }
   ],
   "source": [
    "#how to use this with the decorator \n",
    "def outerFn(func):\n",
    "    def insiderFn(*args, **kwargs):\n",
    "        print((func(*args, **kwargs))) \n",
    "    return insiderFn\n",
    "\n",
    "@outerFn\n",
    "def power(x, y):\n",
    "    return x ** y\n",
    "\n",
    "power(3, 2) "
   ]
  },
  {
   "cell_type": "markdown",
   "metadata": {},
   "source": [
    "10. Use properties to “future-proof” the class implementation  "
   ]
  },
  {
   "cell_type": "code",
   "execution_count": 19,
   "metadata": {},
   "outputs": [],
   "source": [
    "class Product():\n",
    "    def __init__(self, name, price):\n",
    "        self.name = name\n",
    "        self._price = price\n",
    "        \n",
    "@property\n",
    "def price(self):\n",
    "    return self._price \n",
    "\n",
    "@price.setter\n",
    "def price(self, value):\n",
    "    self._price = value  "
   ]
  },
  {
   "cell_type": "markdown",
   "metadata": {},
   "source": [
    "11. at the end, make use of the python standard library, that is the one more step to improve yourself to the professional, inclduing itertools, functools, os, unittest etc "
   ]
  },
  {
   "cell_type": "code",
   "execution_count": 26,
   "metadata": {},
   "outputs": [
    {
     "name": "stdout",
     "output_type": "stream",
     "text": [
      "chloe/ist/sehr/gut/?\n",
      "0.00039196014404296875\n"
     ]
    }
   ],
   "source": [
    "import time \n",
    "\n",
    "start_time = time.time() \n",
    "#use the empty '' to combine a string list \n",
    "word = ['chloe','ist','sehr','gut','?']\n",
    "sentence = '/'.join(word) \n",
    "print(sentence)\n",
    "end_time= time.time()-start_time\n",
    "print(end_time)   "
   ]
  },
  {
   "cell_type": "code",
   "execution_count": 22,
   "metadata": {},
   "outputs": [],
   "source": [
    "#usage of itertools  \n"
   ]
  },
  {
   "cell_type": "code",
   "execution_count": 16,
   "metadata": {},
   "outputs": [
    {
     "name": "stdout",
     "output_type": "stream",
     "text": [
      "functools.partial(<function sum at 0x110a77ae8>, 5)\n",
      "2\n"
     ]
    }
   ],
   "source": [
    "#usage of functools \n",
    "from functools import partial\n",
    "\n",
    "def sum(x,y,z):\n",
    "    return x+y-z\n",
    "\n",
    "count= partial(sum, 5)\n",
    "count(1,4)  \n",
    "print(count) \n",
    "#actually partial is for playing around the arguments, to split part the arguments and use it \n",
    "#on different parts of the params, to run the function on its arguments order, the first param must be function \n",
    "\n",
    "# optional \n",
    "count1= partial(sum,5)(1,4) \n",
    "print(count1) "
   ]
  },
  {
   "cell_type": "code",
   "execution_count": 17,
   "metadata": {},
   "outputs": [
    {
     "data": {
      "text/plain": [
       "'/Users/chloeji/machinelearningFun/chapter4_ML'"
      ]
     },
     "execution_count": 17,
     "metadata": {},
     "output_type": "execute_result"
    }
   ],
   "source": [
    "import os \n",
    "os.getcwd()  "
   ]
  },
  {
   "cell_type": "code",
   "execution_count": 18,
   "metadata": {},
   "outputs": [],
   "source": [
    "import unittest \n",
    "# other optional tool: nose and py.test    "
   ]
  },
  {
   "cell_type": "code",
   "execution_count": null,
   "metadata": {},
   "outputs": [],
   "source": []
  }
 ],
 "metadata": {
  "kernelspec": {
   "display_name": "Python 3",
   "language": "python",
   "name": "python3"
  },
  "language_info": {
   "codemirror_mode": {
    "name": "ipython",
    "version": 3
   },
   "file_extension": ".py",
   "mimetype": "text/x-python",
   "name": "python",
   "nbconvert_exporter": "python",
   "pygments_lexer": "ipython3",
   "version": "3.7.3"
  },
  "varInspector": {
   "cols": {
    "lenName": 16,
    "lenType": 16,
    "lenVar": 40
   },
   "kernels_config": {
    "python": {
     "delete_cmd_postfix": "",
     "delete_cmd_prefix": "del ",
     "library": "var_list.py",
     "varRefreshCmd": "print(var_dic_list())"
    },
    "r": {
     "delete_cmd_postfix": ") ",
     "delete_cmd_prefix": "rm(",
     "library": "var_list.r",
     "varRefreshCmd": "cat(var_dic_list()) "
    }
   },
   "types_to_exclude": [
    "module",
    "function",
    "builtin_function_or_method",
    "instance",
    "_Feature"
   ],
   "window_display": false
  }
 },
 "nbformat": 4,
 "nbformat_minor": 2
}
